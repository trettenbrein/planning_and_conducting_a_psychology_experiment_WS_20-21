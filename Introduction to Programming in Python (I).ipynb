{
 "cells": [
  {
   "cell_type": "markdown",
   "metadata": {},
   "source": [
    "# Planning and Conducting a Psychology Experiment (Session 5): Introduction to Programming in Python (I)\n",
    "\n",
    "This is a notebook with practical examples and exercises for the hands-on part on programming in Python of the seminar **\"Planning and Conducting a Psychology Experiment\"** co-taught by [Tomás Goucha](https://www.cbs.mpg.de/mitarbeiter/goucha), [Matteo Maran](https://www.cbs.mpg.de/employees/59327), [Giorgio Papitto](https://www.cbs.mpg.de/person/papitto/373360), and [Patrick C. Trettenbrein](https://trettenbrein.biolinguistics.eu) at [University of Leipzig](https://www.uni-leipzig.de/en/) in the winter term 2020-21.\n",
    "\n",
    "The goal of our two hands-on sessions is to introduce participants to the basics of programming in Python. Our focus here is on understanding fundamental concepts in order to be able to use Python for scientific purposes such as stimulus presentation or data analysis.\n",
    "\n",
    "In this first hands-on session we'll cover the very basics of programming (in Python):\n",
    "- What is Python? And why use it?\n",
    "- Ways of installing Python\n",
    "- Development environment\n",
    "\n",
    "What is Python? How does the Python environment work (packages, etc.)?\n",
    "- What are names, expressions, statements?\n",
    "Functions, conditions and loops\n",
    "Data formats: Strings, Lists, and Dictionaries vs. Numerical data\n",
    "Basic plotting and how all of this is relevant for building experiments"
   ]
  },
  {
   "cell_type": "code",
   "execution_count": 1,
   "metadata": {},
   "outputs": [
    {
     "name": "stdout",
     "output_type": "stream",
     "text": [
      "Hello world!\n"
     ]
    }
   ],
   "source": [
    "print(\"Hello world!\")"
   ]
  }
 ],
 "metadata": {
  "kernelspec": {
   "display_name": "Python 3",
   "language": "python",
   "name": "python3"
  },
  "language_info": {
   "codemirror_mode": {
    "name": "ipython",
    "version": 3
   },
   "file_extension": ".py",
   "mimetype": "text/x-python",
   "name": "python",
   "nbconvert_exporter": "python",
   "pygments_lexer": "ipython3",
   "version": "3.6.6"
  }
 },
 "nbformat": 4,
 "nbformat_minor": 2
}
